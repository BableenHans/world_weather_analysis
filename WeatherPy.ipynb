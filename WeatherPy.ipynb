{
 "cells": [
  {
   "cell_type": "code",
   "execution_count": 45,
   "id": "a1e04498",
   "metadata": {},
   "outputs": [],
   "source": [
    "# Import the random module.\n",
    "import random"
   ]
  },
  {
   "cell_type": "code",
   "execution_count": 46,
   "id": "0c546f23",
   "metadata": {},
   "outputs": [
    {
     "data": {
      "text/plain": [
       "-64"
      ]
     },
     "execution_count": 46,
     "metadata": {},
     "output_type": "execute_result"
    }
   ],
   "source": [
    "random.randint(-90, 90)"
   ]
  },
  {
   "cell_type": "code",
   "execution_count": 47,
   "id": "aba099e5",
   "metadata": {},
   "outputs": [],
   "source": [
    "x = 1\n",
    "latitudes = []\n",
    "while x < 11:\n",
    "    random_lat = random.randint(-90, 89) + random.random()\n",
    "    latitudes.append(random_lat)\n",
    "    x += 1"
   ]
  },
  {
   "cell_type": "code",
   "execution_count": 48,
   "id": "807d5e20",
   "metadata": {},
   "outputs": [],
   "source": [
    "# Import the dependencies.\n",
    "import pandas as pd\n",
    "import matplotlib.pyplot as plt\n",
    "import numpy as np"
   ]
  },
  {
   "cell_type": "code",
   "execution_count": 49,
   "id": "527a53fb",
   "metadata": {},
   "outputs": [
    {
     "data": {
      "text/plain": [
       "<zip at 0x7ff2b3201800>"
      ]
     },
     "execution_count": 49,
     "metadata": {},
     "output_type": "execute_result"
    }
   ],
   "source": [
    "# Create a set of random latitude and longitude combinations.\n",
    "lats = np.random.uniform(low=-90.000, high=90.000, size=1500)\n",
    "lngs = np.random.uniform(low=-180.000, high=180.000, size=1500)\n",
    "lat_lngs = zip(lats, lngs)\n",
    "lat_lngs"
   ]
  },
  {
   "cell_type": "code",
   "execution_count": 50,
   "id": "052b7311",
   "metadata": {},
   "outputs": [],
   "source": [
    "# Import timeit.\n",
    "import timeit"
   ]
  },
  {
   "cell_type": "code",
   "execution_count": 51,
   "id": "eacbef11",
   "metadata": {},
   "outputs": [
    {
     "name": "stdout",
     "output_type": "stream",
     "text": [
      "16.8 µs ± 713 ns per loop (mean ± std. dev. of 7 runs, 10000 loops each)\n"
     ]
    }
   ],
   "source": [
    "%timeit np.random.uniform(-90.000, 90.000, size=1500)"
   ]
  },
  {
   "cell_type": "code",
   "execution_count": 52,
   "id": "59184017",
   "metadata": {},
   "outputs": [
    {
     "name": "stdout",
     "output_type": "stream",
     "text": [
      "1.86 ms ± 86.7 µs per loop (mean ± std. dev. of 7 runs, 100 loops each)\n"
     ]
    }
   ],
   "source": [
    "def latitudes(size):\n",
    "    latitudes = []\n",
    "    x = 0\n",
    "    while x < (size):\n",
    "        random_lat = random.randint(-90, 90) + random.random()\n",
    "        latitudes.append(random_lat)\n",
    "        x += 1\n",
    "    return latitudes\n",
    "# Call the function with 1500.\n",
    "%timeit latitudes(1500)"
   ]
  },
  {
   "cell_type": "code",
   "execution_count": 53,
   "id": "a4462b96",
   "metadata": {},
   "outputs": [],
   "source": [
    "# Create a practice set of random latitude and longitude combinations.\n",
    "lats = [25.12903645, 25.92017388, 26.62509167, -59.98969384, 37.30571269]\n",
    "lngs = [-67.59741259, 11.09532135, 74.84233102, -76.89176677, -61.13376282]\n",
    "lat_lngs = zip(lats, lngs)"
   ]
  },
  {
   "cell_type": "code",
   "execution_count": 54,
   "id": "d89bc977",
   "metadata": {},
   "outputs": [],
   "source": [
    "# Add the latitudes and longitudes to a list.\n",
    "coordinates = list(lat_lngs)"
   ]
  },
  {
   "cell_type": "code",
   "execution_count": 55,
   "id": "fef226a6",
   "metadata": {},
   "outputs": [
    {
     "name": "stdout",
     "output_type": "stream",
     "text": [
      "25.12903645 -67.59741259\n",
      "25.92017388 11.09532135\n",
      "26.62509167 74.84233102\n",
      "-59.98969384 -76.89176677\n",
      "37.30571269 -61.13376282\n"
     ]
    }
   ],
   "source": [
    "# Use the print() function to display the latitude and longitude combinations.\n",
    "for coordinate in coordinates:\n",
    "    print(coordinate[0], coordinate[1])"
   ]
  },
  {
   "cell_type": "code",
   "execution_count": 56,
   "id": "c205d83e",
   "metadata": {},
   "outputs": [],
   "source": [
    "# Use the citipy module to determine city based on latitude and longitude.\n",
    "from citipy import citipy"
   ]
  },
  {
   "cell_type": "code",
   "execution_count": 57,
   "id": "a2535a16",
   "metadata": {},
   "outputs": [
    {
     "name": "stdout",
     "output_type": "stream",
     "text": [
      "cockburn town tc\n",
      "gat ly\n",
      "parvatsar in\n",
      "punta arenas cl\n",
      "saint george bm\n"
     ]
    }
   ],
   "source": [
    "# Use the print() function to display the latitude and longitude combinations.\n",
    "for coordinate in coordinates:\n",
    "    print(citipy.nearest_city(coordinate[0], coordinate[1]).city_name,\n",
    "          citipy.nearest_city(coordinate[0], coordinate[1]).country_code)"
   ]
  },
  {
   "cell_type": "code",
   "execution_count": 58,
   "id": "918ef605",
   "metadata": {},
   "outputs": [],
   "source": [
    "from citipy import citipy"
   ]
  },
  {
   "cell_type": "code",
   "execution_count": 59,
   "id": "2472d13f",
   "metadata": {},
   "outputs": [
    {
     "data": {
      "text/plain": [
       "5"
      ]
     },
     "execution_count": 59,
     "metadata": {},
     "output_type": "execute_result"
    }
   ],
   "source": [
    "# Create a list for holding the cities.\n",
    "cities = []\n",
    "# Identify the nearest city for each latitude and longitude combination.\n",
    "for coordinate in coordinates:\n",
    "    city = citipy.nearest_city(coordinate[0], coordinate[1]).city_name\n",
    "\n",
    "    # If the city is unique, then we will add it to the cities list.\n",
    "    if city not in cities:\n",
    "        cities.append(city)\n",
    "# Print the city count to confirm sufficient count.\n",
    "len(cities)\n"
   ]
  },
  {
   "cell_type": "code",
   "execution_count": 76,
   "id": "59149060",
   "metadata": {},
   "outputs": [],
   "source": [
    "# Import the requests library.\n",
    "import requests\n",
    "\n",
    "# Import the API key.\n",
    "from config import weather_api_key"
   ]
  },
  {
   "cell_type": "code",
   "execution_count": 77,
   "id": "6971e107",
   "metadata": {},
   "outputs": [
    {
     "name": "stdout",
     "output_type": "stream",
     "text": [
      "http://api.openweathermap.org/data/2.5/weather?units=Imperial&APPID=caa53791e7ca5ae81c2b195efcf07033\n"
     ]
    }
   ],
   "source": [
    "# Starting URL for Weather Map API Call.\n",
    "url = \"http://api.openweathermap.org/data/2.5/weather?units=Imperial&APPID=\" + weather_api_key\n",
    "print(url)"
   ]
  },
  {
   "cell_type": "code",
   "execution_count": 78,
   "id": "814f25e9",
   "metadata": {},
   "outputs": [
    {
     "name": "stdout",
     "output_type": "stream",
     "text": [
      "http://api.openweathermap.org/data/2.5/weather?units=Imperial&APPID=caa53791e7ca5ae81c2b195efcf07033&q=Boston\n"
     ]
    }
   ],
   "source": [
    "# 6.2.5 Parse a response from an api\n",
    "# Create an endpoint URL for a city.\n",
    "city_url = url + \"&q=\" + \"Boston\"\n",
    "print(city_url)"
   ]
  },
  {
   "cell_type": "code",
   "execution_count": 79,
   "id": "df9c055f",
   "metadata": {},
   "outputs": [
    {
     "data": {
      "text/plain": [
       "<Response [200]>"
      ]
     },
     "execution_count": 79,
     "metadata": {},
     "output_type": "execute_result"
    }
   ],
   "source": [
    "# Make a 'Get' request for the city weather.\n",
    "city_weather = requests.get(city_url)\n",
    "city_weather"
   ]
  },
  {
   "cell_type": "code",
   "execution_count": 80,
   "id": "8a938f40",
   "metadata": {},
   "outputs": [
    {
     "data": {
      "text/plain": [
       "200"
      ]
     },
     "execution_count": 80,
     "metadata": {},
     "output_type": "execute_result"
    }
   ],
   "source": [
    "city_weather.status_code"
   ]
  },
  {
   "cell_type": "code",
   "execution_count": 81,
   "id": "b7e8ac00",
   "metadata": {},
   "outputs": [
    {
     "data": {
      "text/plain": [
       "<Response [404]>"
      ]
     },
     "execution_count": 81,
     "metadata": {},
     "output_type": "execute_result"
    }
   ],
   "source": [
    "# Create an endpoint URL for a city.\n",
    "city_url = url + \"&q=\" + \"Bston\"\n",
    "city_weather = requests.get(city_url)\n",
    "city_weather"
   ]
  },
  {
   "cell_type": "code",
   "execution_count": 82,
   "id": "eb5d95ea",
   "metadata": {},
   "outputs": [
    {
     "data": {
      "text/plain": [
       "<Response [200]>"
      ]
     },
     "execution_count": 82,
     "metadata": {},
     "output_type": "execute_result"
    }
   ],
   "source": [
    "# Create an endpoint URL for a city.\n",
    "city_url = url + \"&q=\" + \"Boston\"\n",
    "city_weather = requests.get(city_url)\n",
    "city_weather"
   ]
  },
  {
   "cell_type": "code",
   "execution_count": 83,
   "id": "f4287ed3",
   "metadata": {},
   "outputs": [
    {
     "data": {
      "text/plain": [
       "'{\"coord\":{\"lon\":-71.0598,\"lat\":42.3584},\"weather\":[{\"id\":701,\"main\":\"Mist\",\"description\":\"mist\",\"icon\":\"50n\"},{\"id\":502,\"main\":\"Rain\",\"description\":\"heavy intensity rain\",\"icon\":\"10n\"}],\"base\":\"stations\",\"main\":{\"temp\":64.13,\"feels_like\":64.71,\"temp_min\":61.95,\"temp_max\":65.71,\"pressure\":1012,\"humidity\":95},\"visibility\":8047,\"wind\":{\"speed\":12.66,\"deg\":160},\"rain\":{\"1h\":4.02},\"clouds\":{\"all\":100},\"dt\":1665720631,\"sys\":{\"type\":2,\"id\":2013408,\"country\":\"US\",\"sunrise\":1665744940,\"sunset\":1665785067},\"timezone\":-14400,\"id\":4930956,\"name\":\"Boston\",\"cod\":200}'"
      ]
     },
     "execution_count": 83,
     "metadata": {},
     "output_type": "execute_result"
    }
   ],
   "source": [
    "# Get the text of the 'Get' request.\n",
    "city_weather.text"
   ]
  },
  {
   "cell_type": "code",
   "execution_count": 84,
   "id": "3bfa7e66",
   "metadata": {},
   "outputs": [
    {
     "data": {
      "text/plain": [
       "{'coord': {'lon': -71.0598, 'lat': 42.3584},\n",
       " 'weather': [{'id': 701, 'main': 'Mist', 'description': 'mist', 'icon': '50n'},\n",
       "  {'id': 502,\n",
       "   'main': 'Rain',\n",
       "   'description': 'heavy intensity rain',\n",
       "   'icon': '10n'}],\n",
       " 'base': 'stations',\n",
       " 'main': {'temp': 64.13,\n",
       "  'feels_like': 64.71,\n",
       "  'temp_min': 61.95,\n",
       "  'temp_max': 65.71,\n",
       "  'pressure': 1012,\n",
       "  'humidity': 95},\n",
       " 'visibility': 8047,\n",
       " 'wind': {'speed': 12.66, 'deg': 160},\n",
       " 'rain': {'1h': 4.02},\n",
       " 'clouds': {'all': 100},\n",
       " 'dt': 1665720631,\n",
       " 'sys': {'type': 2,\n",
       "  'id': 2013408,\n",
       "  'country': 'US',\n",
       "  'sunrise': 1665744940,\n",
       "  'sunset': 1665785067},\n",
       " 'timezone': -14400,\n",
       " 'id': 4930956,\n",
       " 'name': 'Boston',\n",
       " 'cod': 200}"
      ]
     },
     "execution_count": 84,
     "metadata": {},
     "output_type": "execute_result"
    }
   ],
   "source": [
    "# Get the JSON text of the 'Get' request.\n",
    "city_weather.json()"
   ]
  },
  {
   "cell_type": "code",
   "execution_count": 85,
   "id": "8cf39cd1",
   "metadata": {},
   "outputs": [
    {
     "name": "stdout",
     "output_type": "stream",
     "text": [
      "City Weather found.\n"
     ]
    }
   ],
   "source": [
    "# Create an endpoint URL for a city.\n",
    "city_url = url + \"&q=\" + \"Boston\"\n",
    "city_weather = requests.get(city_url)\n",
    "if city_weather.status_code == 200:\n",
    "    print(f\"City Weather found.\")\n",
    "else:\n",
    "    print(f\"City weather not found.\")"
   ]
  },
  {
   "cell_type": "code",
   "execution_count": 86,
   "id": "4306f618",
   "metadata": {},
   "outputs": [
    {
     "name": "stdout",
     "output_type": "stream",
     "text": [
      "City weather not found.\n"
     ]
    }
   ],
   "source": [
    "# Create an endpoint URL for a city.\n",
    "city_url = url + \"&q=\" + \"Bston\"\n",
    "city_weather = requests.get(city_url)\n",
    "if city_weather.status_code == 200:\n",
    "    print(f\"City Weather found.\")\n",
    "else:\n",
    "    print(f\"City weather not found.\")\n",
    "# print(city_url)"
   ]
  },
  {
   "cell_type": "code",
   "execution_count": 88,
   "id": "f5242589",
   "metadata": {},
   "outputs": [
    {
     "data": {
      "text/plain": [
       "{'coord': {'lon': -71.0598, 'lat': 42.3584},\n",
       " 'weather': [{'id': 701, 'main': 'Mist', 'description': 'mist', 'icon': '50n'},\n",
       "  {'id': 502,\n",
       "   'main': 'Rain',\n",
       "   'description': 'heavy intensity rain',\n",
       "   'icon': '10n'}],\n",
       " 'base': 'stations',\n",
       " 'main': {'temp': 64.13,\n",
       "  'feels_like': 64.71,\n",
       "  'temp_min': 61.95,\n",
       "  'temp_max': 65.71,\n",
       "  'pressure': 1012,\n",
       "  'humidity': 95},\n",
       " 'visibility': 8047,\n",
       " 'wind': {'speed': 12.66, 'deg': 160},\n",
       " 'rain': {'1h': 4.02},\n",
       " 'clouds': {'all': 100},\n",
       " 'dt': 1665720631,\n",
       " 'sys': {'type': 2,\n",
       "  'id': 2013408,\n",
       "  'country': 'US',\n",
       "  'sunrise': 1665744940,\n",
       "  'sunset': 1665785067},\n",
       " 'timezone': -14400,\n",
       " 'id': 4930956,\n",
       " 'name': 'Boston',\n",
       " 'cod': 200}"
      ]
     },
     "execution_count": 88,
     "metadata": {},
     "output_type": "execute_result"
    }
   ],
   "source": [
    "# Create an endpoint URL for a city.\n",
    "city_url = url + \"&q=\" + \"Boston\"\n",
    "city_weather = requests.get(city_url)\n",
    "city_weather.json()"
   ]
  },
  {
   "cell_type": "code",
   "execution_count": 89,
   "id": "b2ddbea6",
   "metadata": {},
   "outputs": [],
   "source": [
    "#  Get the JSON data.\n",
    "boston_data = city_weather.json()"
   ]
  },
  {
   "cell_type": "code",
   "execution_count": 90,
   "id": "8943ea4f",
   "metadata": {},
   "outputs": [
    {
     "data": {
      "text/plain": [
       "{'type': 2,\n",
       " 'id': 2013408,\n",
       " 'country': 'US',\n",
       " 'sunrise': 1665744940,\n",
       " 'sunset': 1665785067}"
      ]
     },
     "execution_count": 90,
     "metadata": {},
     "output_type": "execute_result"
    }
   ],
   "source": [
    "boston_data['sys']"
   ]
  },
  {
   "cell_type": "code",
   "execution_count": 91,
   "id": "4af84d88",
   "metadata": {},
   "outputs": [
    {
     "data": {
      "text/plain": [
       "'US'"
      ]
     },
     "execution_count": 91,
     "metadata": {},
     "output_type": "execute_result"
    }
   ],
   "source": [
    "boston_data['sys']['country']"
   ]
  },
  {
   "cell_type": "code",
   "execution_count": 92,
   "id": "928d7678",
   "metadata": {},
   "outputs": [
    {
     "data": {
      "text/plain": [
       "1665720631"
      ]
     },
     "execution_count": 92,
     "metadata": {},
     "output_type": "execute_result"
    }
   ],
   "source": [
    "boston_data['dt']"
   ]
  },
  {
   "cell_type": "code",
   "execution_count": 93,
   "id": "ee5d1bd9",
   "metadata": {},
   "outputs": [
    {
     "name": "stdout",
     "output_type": "stream",
     "text": [
      "42.3584 -71.0598 65.71 95 100 12.66\n"
     ]
    }
   ],
   "source": [
    "lat = boston_data[\"coord\"][\"lat\"]\n",
    "lng = boston_data[\"coord\"][\"lon\"]\n",
    "max_temp = boston_data[\"main\"][\"temp_max\"]\n",
    "humidity = boston_data[\"main\"][\"humidity\"]\n",
    "clouds = boston_data[\"clouds\"][\"all\"]\n",
    "wind = boston_data[\"wind\"][\"speed\"]\n",
    "print(lat, lng, max_temp, humidity, clouds, wind)"
   ]
  },
  {
   "cell_type": "code",
   "execution_count": 94,
   "id": "fe807b94",
   "metadata": {},
   "outputs": [
    {
     "data": {
      "text/plain": [
       "datetime.datetime(2022, 10, 14, 4, 10, 31)"
      ]
     },
     "execution_count": 94,
     "metadata": {},
     "output_type": "execute_result"
    }
   ],
   "source": [
    "# Import the datetime module from the datetime library.\n",
    "from datetime import datetime\n",
    "# Get the date from the JSON file.\n",
    "date = boston_data[\"dt\"]\n",
    "# Convert the UTC date to a date format with year, month, day, hours, minutes, and seconds.\n",
    "datetime.utcfromtimestamp(date)"
   ]
  },
  {
   "cell_type": "code",
   "execution_count": 95,
   "id": "813a6200",
   "metadata": {},
   "outputs": [
    {
     "data": {
      "text/plain": [
       "'2022-10-14 04:10:31'"
      ]
     },
     "execution_count": 95,
     "metadata": {},
     "output_type": "execute_result"
    }
   ],
   "source": [
    "datetime.utcfromtimestamp(date).strftime('%Y-%m-%d %H:%M:%S')"
   ]
  },
  {
   "cell_type": "code",
   "execution_count": 96,
   "id": "8ea735ad",
   "metadata": {},
   "outputs": [],
   "source": [
    "# Import the time library and the datetime module from the datetime library \n",
    "import time\n",
    "from datetime import datetime"
   ]
  },
  {
   "cell_type": "code",
   "execution_count": 97,
   "id": "e8defc56",
   "metadata": {},
   "outputs": [
    {
     "data": {
      "text/plain": [
       "<zip at 0x7ff2b35e3e00>"
      ]
     },
     "execution_count": 97,
     "metadata": {},
     "output_type": "execute_result"
    }
   ],
   "source": [
    "# Create a set of random latitude and longitude combinations.\n",
    "lats = np.random.uniform(low=-90.000, high=90.000, size=1500)\n",
    "lngs = np.random.uniform(low=-180.000, high=180.000, size=1500)\n",
    "lat_lngs = zip(lats, lngs)\n",
    "lat_lngs"
   ]
  },
  {
   "cell_type": "code",
   "execution_count": 98,
   "id": "663e740d",
   "metadata": {},
   "outputs": [],
   "source": [
    "# Add the latitudes and longitudes to a list.\n",
    "coordinates = list(lat_lngs)"
   ]
  },
  {
   "cell_type": "code",
   "execution_count": 99,
   "id": "2c08effa",
   "metadata": {},
   "outputs": [
    {
     "data": {
      "text/plain": [
       "620"
      ]
     },
     "execution_count": 99,
     "metadata": {},
     "output_type": "execute_result"
    }
   ],
   "source": [
    "# Create a list for holding the cities.\n",
    "cities = []\n",
    "# Identify the nearest city for each latitude and longitude combination.\n",
    "for coordinate in coordinates:\n",
    "    city = citipy.nearest_city(coordinate[0], coordinate[1]).city_name\n",
    "\n",
    "    # If the city is unique, then we will add it to the cities list.\n",
    "    if city not in cities:\n",
    "        cities.append(city)\n",
    "# Print the city count to confirm sufficient count.\n",
    "len(cities)"
   ]
  },
  {
   "cell_type": "code",
   "execution_count": 100,
   "id": "b431b285",
   "metadata": {},
   "outputs": [
    {
     "name": "stdout",
     "output_type": "stream",
     "text": [
      "Beginning Data Retrieval     \n",
      "-----------------------------\n"
     ]
    }
   ],
   "source": [
    "# Create an empty list to hold the weather data.\n",
    "city_data = []\n",
    "# Print the beginning of the logging.\n",
    "print(\"Beginning Data Retrieval     \")\n",
    "print(\"-----------------------------\")\n",
    "\n",
    "# Create counters.\n",
    "record_count = 1\n",
    "set_count = 1"
   ]
  },
  {
   "cell_type": "code",
   "execution_count": 101,
   "id": "54c59624",
   "metadata": {},
   "outputs": [],
   "source": [
    "# Loop through all the cities in our list.\n",
    "# for i in range(len(cities)):\n",
    "\n",
    "#     # Group cities in sets of 50 for logging purposes.\n",
    "#     if (i % 50 == 0 and i >= 50):\n",
    "#         set_count += 1\n",
    "#         record_count = 1\n",
    "#         time.sleep(60)\n",
    "\n",
    "#     # Create endpoint URL with each city.\n",
    "#     city_url = url + \"&q=\" + cities[i]"
   ]
  },
  {
   "cell_type": "code",
   "execution_count": 102,
   "id": "54352692",
   "metadata": {},
   "outputs": [
    {
     "name": "stdout",
     "output_type": "stream",
     "text": [
      "Processing Record 1 of Set 1 | shenjiamen\n",
      "Processing Record 2 of Set 1 | sitka\n",
      "Processing Record 3 of Set 1 | dhidhdhoo\n",
      "Processing Record 4 of Set 1 | benjamin hill\n",
      "Processing Record 5 of Set 1 | kasongo\n",
      "Processing Record 6 of Set 1 | san giljan\n",
      "Processing Record 7 of Set 1 | tuktoyaktuk\n",
      "Processing Record 8 of Set 1 | kracheh\n",
      "City not found. Skipping...\n",
      "Processing Record 9 of Set 1 | elko\n",
      "Processing Record 10 of Set 1 | sorvag\n",
      "City not found. Skipping...\n",
      "Processing Record 11 of Set 1 | bethel\n",
      "Processing Record 12 of Set 1 | hermanus\n",
      "Processing Record 13 of Set 1 | ust-kamchatsk\n",
      "City not found. Skipping...\n",
      "Processing Record 14 of Set 1 | busselton\n",
      "Processing Record 15 of Set 1 | hobart\n",
      "Processing Record 16 of Set 1 | sao felix do xingu\n",
      "Processing Record 17 of Set 1 | huarmey\n",
      "Processing Record 18 of Set 1 | jamestown\n",
      "Processing Record 19 of Set 1 | surt\n",
      "Processing Record 20 of Set 1 | kirkwall\n",
      "Processing Record 21 of Set 1 | saleaula\n",
      "City not found. Skipping...\n",
      "Processing Record 22 of Set 1 | bay roberts\n",
      "Processing Record 23 of Set 1 | albany\n",
      "Processing Record 24 of Set 1 | tasiilaq\n",
      "Processing Record 25 of Set 1 | bluff\n",
      "Processing Record 26 of Set 1 | qaanaaq\n",
      "Processing Record 27 of Set 1 | chuy\n",
      "Processing Record 28 of Set 1 | barrow\n",
      "Processing Record 29 of Set 1 | saint-pierre\n",
      "Processing Record 30 of Set 1 | sao filipe\n",
      "Processing Record 31 of Set 1 | cherskiy\n",
      "Processing Record 32 of Set 1 | mataura\n",
      "Processing Record 33 of Set 1 | hami\n",
      "Processing Record 34 of Set 1 | wahpeton\n",
      "Processing Record 35 of Set 1 | port elizabeth\n",
      "Processing Record 36 of Set 1 | ushuaia\n",
      "Processing Record 37 of Set 1 | kiunga\n",
      "Processing Record 38 of Set 1 | ternate\n",
      "Processing Record 39 of Set 1 | dikson\n",
      "Processing Record 40 of Set 1 | beloha\n",
      "Processing Record 41 of Set 1 | at-bashi\n",
      "Processing Record 42 of Set 1 | longyearbyen\n",
      "Processing Record 43 of Set 1 | zyryanka\n",
      "Processing Record 44 of Set 1 | nizhneyansk\n",
      "City not found. Skipping...\n",
      "Processing Record 45 of Set 1 | hamilton\n",
      "Processing Record 46 of Set 1 | araouane\n",
      "Processing Record 47 of Set 1 | kouroussa\n",
      "Processing Record 48 of Set 1 | shingu\n",
      "Processing Record 49 of Set 1 | salinopolis\n",
      "Processing Record 50 of Set 1 | berbera\n",
      "Processing Record 1 of Set 2 | wainwright\n",
      "Processing Record 2 of Set 2 | carrick-on-suir\n",
      "Processing Record 3 of Set 2 | mahebourg\n",
      "Processing Record 4 of Set 2 | lebu\n",
      "Processing Record 5 of Set 2 | kapit\n",
      "Processing Record 6 of Set 2 | nikolskoye\n",
      "Processing Record 7 of Set 2 | saint-philippe\n",
      "Processing Record 8 of Set 2 | bukachacha\n",
      "Processing Record 9 of Set 2 | nhulunbuy\n",
      "Processing Record 10 of Set 2 | bambous virieux\n",
      "Processing Record 11 of Set 2 | rikitea\n",
      "Processing Record 12 of Set 2 | vostok\n",
      "Processing Record 13 of Set 2 | de aar\n",
      "Processing Record 14 of Set 2 | san cristobal\n",
      "Processing Record 15 of Set 2 | haileybury\n",
      "Processing Record 16 of Set 2 | punta arenas\n",
      "Processing Record 17 of Set 2 | esperance\n",
      "Processing Record 18 of Set 2 | nichinan\n",
      "Processing Record 19 of Set 2 | vaini\n",
      "Processing Record 20 of Set 2 | kapaa\n",
      "Processing Record 21 of Set 2 | vaitupu\n",
      "City not found. Skipping...\n",
      "Processing Record 22 of Set 2 | zhangye\n",
      "Processing Record 23 of Set 2 | milkovo\n",
      "Processing Record 24 of Set 2 | east london\n",
      "Processing Record 25 of Set 2 | marcona\n",
      "City not found. Skipping...\n",
      "Processing Record 26 of Set 2 | hilo\n",
      "Processing Record 27 of Set 2 | yabrud\n",
      "Processing Record 28 of Set 2 | butaritari\n",
      "Processing Record 29 of Set 2 | great yarmouth\n",
      "Processing Record 30 of Set 2 | nampula\n",
      "Processing Record 31 of Set 2 | palmer\n",
      "Processing Record 32 of Set 2 | jaciara\n",
      "Processing Record 33 of Set 2 | sisimiut\n",
      "Processing Record 34 of Set 2 | pisco\n",
      "Processing Record 35 of Set 2 | komsomolskiy\n",
      "Processing Record 36 of Set 2 | bengkulu\n",
      "Processing Record 37 of Set 2 | faya\n",
      "Processing Record 38 of Set 2 | kodiak\n",
      "Processing Record 39 of Set 2 | cape town\n",
      "Processing Record 40 of Set 2 | barentsburg\n",
      "City not found. Skipping...\n",
      "Processing Record 41 of Set 2 | the pas\n",
      "Processing Record 42 of Set 2 | nabire\n",
      "Processing Record 43 of Set 2 | trincomalee\n",
      "Processing Record 44 of Set 2 | yuzhno-yeniseyskiy\n",
      "City not found. Skipping...\n",
      "Processing Record 45 of Set 2 | atuona\n",
      "Processing Record 46 of Set 2 | harper\n",
      "Processing Record 47 of Set 2 | grand river south east\n",
      "City not found. Skipping...\n",
      "Processing Record 48 of Set 2 | taolanaro\n",
      "City not found. Skipping...\n",
      "Processing Record 49 of Set 2 | manaure\n",
      "Processing Record 50 of Set 2 | te anau\n",
      "Processing Record 1 of Set 3 | bonavista\n",
      "Processing Record 2 of Set 3 | port blair\n",
      "Processing Record 3 of Set 3 | cururupu\n",
      "Processing Record 4 of Set 3 | provideniya\n",
      "Processing Record 5 of Set 3 | bodden town\n",
      "Processing Record 6 of Set 3 | labuhan\n",
      "Processing Record 7 of Set 3 | savelugu\n",
      "Processing Record 8 of Set 3 | coquimbo\n",
      "Processing Record 9 of Set 3 | klaksvik\n",
      "Processing Record 10 of Set 3 | sao jose do calcado\n",
      "Processing Record 11 of Set 3 | ottawa\n",
      "Processing Record 12 of Set 3 | palabuhanratu\n",
      "City not found. Skipping...\n",
      "Processing Record 13 of Set 3 | belushya guba\n",
      "City not found. Skipping...\n",
      "Processing Record 14 of Set 3 | berlin\n",
      "Processing Record 15 of Set 3 | gat\n",
      "Processing Record 16 of Set 3 | iqaluit\n",
      "Processing Record 17 of Set 3 | saint-ambroise\n",
      "Processing Record 18 of Set 3 | quimper\n",
      "Processing Record 19 of Set 3 | castro\n",
      "Processing Record 20 of Set 3 | saint george\n",
      "Processing Record 21 of Set 3 | yellowknife\n",
      "Processing Record 22 of Set 3 | coihaique\n",
      "Processing Record 23 of Set 3 | barbacena\n",
      "Processing Record 24 of Set 3 | bredasdorp\n",
      "Processing Record 25 of Set 3 | vanimo\n",
      "Processing Record 26 of Set 3 | porto seguro\n",
      "Processing Record 27 of Set 3 | verkhoyansk\n",
      "Processing Record 28 of Set 3 | kaitangata\n",
      "Processing Record 29 of Set 3 | upernavik\n",
      "Processing Record 30 of Set 3 | bulgan\n",
      "Processing Record 31 of Set 3 | tsihombe\n",
      "City not found. Skipping...\n",
      "Processing Record 32 of Set 3 | council bluffs\n",
      "Processing Record 33 of Set 3 | blackfoot\n",
      "Processing Record 34 of Set 3 | khabary\n",
      "Processing Record 35 of Set 3 | kirakira\n",
      "Processing Record 36 of Set 3 | samusu\n",
      "City not found. Skipping...\n",
      "Processing Record 37 of Set 3 | pevek\n",
      "Processing Record 38 of Set 3 | sola\n",
      "Processing Record 39 of Set 3 | kopanskaya\n",
      "Processing Record 40 of Set 3 | bosaso\n",
      "Processing Record 41 of Set 3 | carnarvon\n",
      "Processing Record 42 of Set 3 | kahului\n",
      "Processing Record 43 of Set 3 | ribeira grande\n",
      "Processing Record 44 of Set 3 | alofi\n",
      "Processing Record 45 of Set 3 | arraial do cabo\n",
      "Processing Record 46 of Set 3 | honiara\n",
      "Processing Record 47 of Set 3 | mount gambier\n",
      "Processing Record 48 of Set 3 | alotau\n",
      "City not found. Skipping...\n",
      "Processing Record 49 of Set 3 | rawson\n",
      "Processing Record 50 of Set 3 | mount isa\n",
      "Processing Record 1 of Set 4 | amderma\n",
      "City not found. Skipping...\n",
      "Processing Record 2 of Set 4 | vannes\n",
      "Processing Record 3 of Set 4 | constitucion\n",
      "Processing Record 4 of Set 4 | port alfred\n",
      "Processing Record 5 of Set 4 | sao joao da barra\n",
      "Processing Record 6 of Set 4 | cabo san lucas\n",
      "Processing Record 7 of Set 4 | grindavik\n",
      "Processing Record 8 of Set 4 | westerland\n",
      "Processing Record 9 of Set 4 | victoria\n",
      "Processing Record 10 of Set 4 | sampit\n",
      "Processing Record 11 of Set 4 | rostovka\n",
      "Processing Record 12 of Set 4 | elizabeth city\n",
      "Processing Record 13 of Set 4 | naze\n",
      "Processing Record 14 of Set 4 | guamuchil\n",
      "Processing Record 15 of Set 4 | todos santos\n",
      "Processing Record 16 of Set 4 | arica\n",
      "Processing Record 17 of Set 4 | cermik\n",
      "Processing Record 18 of Set 4 | cayenne\n",
      "Processing Record 19 of Set 4 | batamshinskiy\n",
      "Processing Record 20 of Set 4 | kruisfontein\n",
      "Processing Record 21 of Set 4 | saskylakh\n",
      "Processing Record 22 of Set 4 | thompson\n",
      "Processing Record 23 of Set 4 | chokurdakh\n",
      "Processing Record 24 of Set 4 | illoqqortoormiut\n",
      "City not found. Skipping...\n",
      "Processing Record 25 of Set 4 | malwan\n",
      "City not found. Skipping...\n",
      "Processing Record 26 of Set 4 | redmond\n",
      "Processing Record 27 of Set 4 | nalut\n",
      "Processing Record 28 of Set 4 | ahipara\n",
      "Processing Record 29 of Set 4 | suntar\n",
      "Processing Record 30 of Set 4 | macaboboni\n",
      "City not found. Skipping...\n",
      "Processing Record 31 of Set 4 | margate\n",
      "Processing Record 32 of Set 4 | grand-santi\n",
      "Processing Record 33 of Set 4 | sinkat\n",
      "City not found. Skipping...\n",
      "Processing Record 34 of Set 4 | raudeberg\n"
     ]
    },
    {
     "name": "stdout",
     "output_type": "stream",
     "text": [
      "Processing Record 35 of Set 4 | asyut\n",
      "Processing Record 36 of Set 4 | aklavik\n",
      "Processing Record 37 of Set 4 | prince rupert\n",
      "Processing Record 38 of Set 4 | puerto ayora\n",
      "Processing Record 39 of Set 4 | kaeo\n",
      "Processing Record 40 of Set 4 | luau\n",
      "Processing Record 41 of Set 4 | attawapiskat\n",
      "City not found. Skipping...\n",
      "Processing Record 42 of Set 4 | norman wells\n",
      "Processing Record 43 of Set 4 | sobolevo\n",
      "Processing Record 44 of Set 4 | smithers\n",
      "Processing Record 45 of Set 4 | katima mulilo\n",
      "Processing Record 46 of Set 4 | praia da vitoria\n",
      "Processing Record 47 of Set 4 | jardim\n",
      "Processing Record 48 of Set 4 | isheyevka\n",
      "Processing Record 49 of Set 4 | payson\n",
      "Processing Record 50 of Set 4 | pierreville\n",
      "Processing Record 1 of Set 5 | poum\n",
      "Processing Record 2 of Set 5 | sheridan\n",
      "Processing Record 3 of Set 5 | singkang\n",
      "Processing Record 4 of Set 5 | yomou\n",
      "Processing Record 5 of Set 5 | taltal\n",
      "Processing Record 6 of Set 5 | nishihara\n",
      "Processing Record 7 of Set 5 | medicine hat\n",
      "Processing Record 8 of Set 5 | salta\n",
      "Processing Record 9 of Set 5 | takoradi\n",
      "Processing Record 10 of Set 5 | lucea\n",
      "Processing Record 11 of Set 5 | fare\n",
      "Processing Record 12 of Set 5 | muros\n",
      "Processing Record 13 of Set 5 | abancay\n",
      "Processing Record 14 of Set 5 | berlevag\n",
      "Processing Record 15 of Set 5 | narsaq\n",
      "Processing Record 16 of Set 5 | sterling\n",
      "Processing Record 17 of Set 5 | petropavlovsk-kamchatskiy\n",
      "Processing Record 18 of Set 5 | hithadhoo\n",
      "Processing Record 19 of Set 5 | new norfolk\n",
      "Processing Record 20 of Set 5 | warrnambool\n",
      "Processing Record 21 of Set 5 | imbituba\n",
      "Processing Record 22 of Set 5 | cockburn town\n",
      "Processing Record 23 of Set 5 | husavik\n",
      "Processing Record 24 of Set 5 | tarata\n",
      "Processing Record 25 of Set 5 | college\n",
      "Processing Record 26 of Set 5 | nanortalik\n",
      "Processing Record 27 of Set 5 | severo-kurilsk\n",
      "Processing Record 28 of Set 5 | riyadh\n",
      "Processing Record 29 of Set 5 | faanui\n",
      "Processing Record 30 of Set 5 | tombouctou\n",
      "Processing Record 31 of Set 5 | vardo\n",
      "Processing Record 32 of Set 5 | sinnamary\n",
      "Processing Record 33 of Set 5 | catamarca\n",
      "Processing Record 34 of Set 5 | guerrero negro\n",
      "Processing Record 35 of Set 5 | mar del plata\n",
      "Processing Record 36 of Set 5 | wagar\n",
      "Processing Record 37 of Set 5 | abilene\n",
      "Processing Record 38 of Set 5 | marawi\n",
      "Processing Record 39 of Set 5 | chernyshevskiy\n",
      "Processing Record 40 of Set 5 | mys shmidta\n",
      "City not found. Skipping...\n",
      "Processing Record 41 of Set 5 | avarua\n",
      "Processing Record 42 of Set 5 | innisfail\n",
      "Processing Record 43 of Set 5 | ancud\n",
      "Processing Record 44 of Set 5 | wenling\n",
      "Processing Record 45 of Set 5 | bathsheba\n",
      "Processing Record 46 of Set 5 | guaruja\n",
      "Processing Record 47 of Set 5 | hvide sande\n",
      "Processing Record 48 of Set 5 | iracoubo\n",
      "Processing Record 49 of Set 5 | ponta do sol\n",
      "Processing Record 50 of Set 5 | tiksi\n",
      "Processing Record 1 of Set 6 | mankapur\n",
      "Processing Record 2 of Set 6 | susanville\n",
      "Processing Record 3 of Set 6 | acapulco\n",
      "Processing Record 4 of Set 6 | lata\n",
      "Processing Record 5 of Set 6 | sindand\n",
      "City not found. Skipping...\n",
      "Processing Record 6 of Set 6 | chabahar\n",
      "Processing Record 7 of Set 6 | beringovskiy\n",
      "Processing Record 8 of Set 6 | straumen\n",
      "Processing Record 9 of Set 6 | sivas\n",
      "Processing Record 10 of Set 6 | alyangula\n",
      "Processing Record 11 of Set 6 | odda\n",
      "Processing Record 12 of Set 6 | ormara\n",
      "Processing Record 13 of Set 6 | salvador\n",
      "Processing Record 14 of Set 6 | lagoa\n",
      "Processing Record 15 of Set 6 | chom bung\n",
      "City not found. Skipping...\n",
      "Processing Record 16 of Set 6 | avera\n",
      "Processing Record 17 of Set 6 | hualmay\n",
      "Processing Record 18 of Set 6 | sinjar\n",
      "Processing Record 19 of Set 6 | fort saint john\n",
      "City not found. Skipping...\n",
      "Processing Record 20 of Set 6 | los llanos de aridane\n",
      "Processing Record 21 of Set 6 | peruibe\n",
      "Processing Record 22 of Set 6 | bojnurd\n",
      "Processing Record 23 of Set 6 | skelleftea\n",
      "Processing Record 24 of Set 6 | chapais\n",
      "Processing Record 25 of Set 6 | sayat\n",
      "Processing Record 26 of Set 6 | iranshahr\n",
      "Processing Record 27 of Set 6 | okhotsk\n",
      "Processing Record 28 of Set 6 | puerto suarez\n",
      "Processing Record 29 of Set 6 | salalah\n",
      "Processing Record 30 of Set 6 | maumere\n",
      "Processing Record 31 of Set 6 | okato\n",
      "Processing Record 32 of Set 6 | kestel\n",
      "Processing Record 33 of Set 6 | la ronge\n",
      "Processing Record 34 of Set 6 | lavrentiya\n",
      "Processing Record 35 of Set 6 | sao caetano de odivelas\n",
      "Processing Record 36 of Set 6 | dunhua\n",
      "Processing Record 37 of Set 6 | fortuna\n",
      "Processing Record 38 of Set 6 | isangel\n",
      "Processing Record 39 of Set 6 | vientiane\n",
      "Processing Record 40 of Set 6 | ketchikan\n",
      "Processing Record 41 of Set 6 | gorontalo\n",
      "Processing Record 42 of Set 6 | katsuura\n",
      "Processing Record 43 of Set 6 | manado\n",
      "Processing Record 44 of Set 6 | flin flon\n",
      "Processing Record 45 of Set 6 | juegang\n",
      "Processing Record 46 of Set 6 | matay\n",
      "Processing Record 47 of Set 6 | lakes entrance\n",
      "Processing Record 48 of Set 6 | serdobsk\n",
      "Processing Record 49 of Set 6 | diego de almagro\n",
      "Processing Record 50 of Set 6 | mezen\n",
      "Processing Record 1 of Set 7 | hervey bay\n",
      "Processing Record 2 of Set 7 | airai\n",
      "Processing Record 3 of Set 7 | kapuskasing\n",
      "Processing Record 4 of Set 7 | ulaangom\n",
      "Processing Record 5 of Set 7 | obihiro\n",
      "Processing Record 6 of Set 7 | lavumisa\n",
      "Processing Record 7 of Set 7 | turayf\n",
      "Processing Record 8 of Set 7 | codrington\n",
      "Processing Record 9 of Set 7 | aykhal\n",
      "Processing Record 10 of Set 7 | palafrugell\n",
      "Processing Record 11 of Set 7 | teya\n",
      "Processing Record 12 of Set 7 | abu dhabi\n",
      "Processing Record 13 of Set 7 | tiznit\n",
      "Processing Record 14 of Set 7 | ambilobe\n",
      "Processing Record 15 of Set 7 | muroto\n",
      "Processing Record 16 of Set 7 | yashan\n",
      "Processing Record 17 of Set 7 | koumac\n",
      "Processing Record 18 of Set 7 | honghu\n",
      "Processing Record 19 of Set 7 | atagay\n",
      "Processing Record 20 of Set 7 | kurchum\n",
      "Processing Record 21 of Set 7 | taoudenni\n",
      "Processing Record 22 of Set 7 | alice\n",
      "Processing Record 23 of Set 7 | santiago del estero\n",
      "Processing Record 24 of Set 7 | marsa matruh\n",
      "Processing Record 25 of Set 7 | preston\n",
      "Processing Record 26 of Set 7 | sorland\n",
      "Processing Record 27 of Set 7 | dashitou\n",
      "Processing Record 28 of Set 7 | mantua\n",
      "Processing Record 29 of Set 7 | bayir\n",
      "Processing Record 30 of Set 7 | hambantota\n",
      "Processing Record 31 of Set 7 | panzhihua\n",
      "Processing Record 32 of Set 7 | sofiysk\n",
      "City not found. Skipping...\n",
      "Processing Record 33 of Set 7 | crotone\n",
      "Processing Record 34 of Set 7 | opotiki\n",
      "Processing Record 35 of Set 7 | tuatapere\n",
      "Processing Record 36 of Set 7 | bambanglipuro\n",
      "Processing Record 37 of Set 7 | pimenta bueno\n",
      "Processing Record 38 of Set 7 | gourcy\n",
      "Processing Record 39 of Set 7 | nouadhibou\n",
      "Processing Record 40 of Set 7 | deltona\n",
      "Processing Record 41 of Set 7 | sentyabrskiy\n",
      "City not found. Skipping...\n",
      "Processing Record 42 of Set 7 | yatou\n",
      "Processing Record 43 of Set 7 | tanggulangin\n",
      "Processing Record 44 of Set 7 | viransehir\n",
      "Processing Record 45 of Set 7 | moctezuma\n",
      "Processing Record 46 of Set 7 | iquitos\n",
      "Processing Record 47 of Set 7 | khatanga\n",
      "Processing Record 48 of Set 7 | halifax\n",
      "Processing Record 49 of Set 7 | genhe\n",
      "Processing Record 50 of Set 7 | najran\n",
      "Processing Record 1 of Set 8 | nawa\n",
      "Processing Record 2 of Set 8 | portland\n",
      "Processing Record 3 of Set 8 | bima\n",
      "Processing Record 4 of Set 8 | umm kaddadah\n",
      "Processing Record 5 of Set 8 | san isidro\n",
      "Processing Record 6 of Set 8 | gharghoda\n",
      "Processing Record 7 of Set 8 | cruzeiro do sul\n",
      "Processing Record 8 of Set 8 | correntina\n",
      "Processing Record 9 of Set 8 | broome\n",
      "Processing Record 10 of Set 8 | jiuquan\n",
      "Processing Record 11 of Set 8 | leeton\n",
      "Processing Record 12 of Set 8 | saldanha\n",
      "Processing Record 13 of Set 8 | saint-georges\n",
      "Processing Record 14 of Set 8 | gravdal\n",
      "Processing Record 15 of Set 8 | port lincoln\n",
      "Processing Record 16 of Set 8 | mehamn\n",
      "Processing Record 17 of Set 8 | karratha\n",
      "Processing Record 18 of Set 8 | campbellsville\n",
      "Processing Record 19 of Set 8 | sungurlu\n",
      "Processing Record 20 of Set 8 | brae\n",
      "Processing Record 21 of Set 8 | praia\n",
      "Processing Record 22 of Set 8 | tabou\n",
      "Processing Record 23 of Set 8 | toliary\n",
      "City not found. Skipping...\n",
      "Processing Record 24 of Set 8 | khormuj\n",
      "City not found. Skipping...\n",
      "Processing Record 25 of Set 8 | puro\n",
      "Processing Record 26 of Set 8 | mbini\n",
      "Processing Record 27 of Set 8 | lompoc\n",
      "Processing Record 28 of Set 8 | xingyi\n"
     ]
    },
    {
     "name": "stdout",
     "output_type": "stream",
     "text": [
      "Processing Record 29 of Set 8 | mikkeli\n",
      "Processing Record 30 of Set 8 | leningradskiy\n",
      "Processing Record 31 of Set 8 | kuytun\n",
      "Processing Record 32 of Set 8 | maniitsoq\n",
      "Processing Record 33 of Set 8 | carauari\n",
      "Processing Record 34 of Set 8 | moa\n",
      "Processing Record 35 of Set 8 | tarauaca\n",
      "Processing Record 36 of Set 8 | kiama\n",
      "Processing Record 37 of Set 8 | saint anthony\n",
      "Processing Record 38 of Set 8 | dunedin\n",
      "Processing Record 39 of Set 8 | henties bay\n",
      "Processing Record 40 of Set 8 | sarahan\n",
      "Processing Record 41 of Set 8 | tambura\n",
      "Processing Record 42 of Set 8 | yeppoon\n",
      "Processing Record 43 of Set 8 | umzimvubu\n",
      "City not found. Skipping...\n",
      "Processing Record 44 of Set 8 | kholtoson\n",
      "Processing Record 45 of Set 8 | oistins\n",
      "Processing Record 46 of Set 8 | srednekolymsk\n",
      "Processing Record 47 of Set 8 | kot diji\n",
      "Processing Record 48 of Set 8 | meulaboh\n",
      "Processing Record 49 of Set 8 | melfi\n",
      "Processing Record 50 of Set 8 | cortez\n",
      "Processing Record 1 of Set 9 | sistranda\n",
      "Processing Record 2 of Set 9 | xihe\n",
      "Processing Record 3 of Set 9 | pangnirtung\n",
      "Processing Record 4 of Set 9 | ayan\n",
      "Processing Record 5 of Set 9 | sarrebourg\n",
      "Processing Record 6 of Set 9 | bilibino\n",
      "Processing Record 7 of Set 9 | ban chang\n",
      "Processing Record 8 of Set 9 | ilulissat\n",
      "Processing Record 9 of Set 9 | dongsheng\n",
      "Processing Record 10 of Set 9 | yabelo\n",
      "Processing Record 11 of Set 9 | mayahi\n",
      "Processing Record 12 of Set 9 | paidha\n",
      "Processing Record 13 of Set 9 | tongren\n",
      "Processing Record 14 of Set 9 | cidreira\n",
      "Processing Record 15 of Set 9 | wajima\n",
      "Processing Record 16 of Set 9 | igarka\n",
      "Processing Record 17 of Set 9 | mugma\n",
      "Processing Record 18 of Set 9 | sept-iles\n",
      "Processing Record 19 of Set 9 | rudbar\n",
      "Processing Record 20 of Set 9 | tumannyy\n",
      "City not found. Skipping...\n",
      "Processing Record 21 of Set 9 | of\n",
      "City not found. Skipping...\n",
      "Processing Record 22 of Set 9 | garden city\n",
      "Processing Record 23 of Set 9 | khorixas\n",
      "Processing Record 24 of Set 9 | yar-sale\n",
      "Processing Record 25 of Set 9 | salamiyah\n",
      "Processing Record 26 of Set 9 | hofn\n",
      "Processing Record 27 of Set 9 | luanda\n",
      "Processing Record 28 of Set 9 | fairbanks\n",
      "Processing Record 29 of Set 9 | samalaeulu\n",
      "City not found. Skipping...\n",
      "Processing Record 30 of Set 9 | daru\n",
      "Processing Record 31 of Set 9 | wyndham\n",
      "Processing Record 32 of Set 9 | whitehorse\n",
      "Processing Record 33 of Set 9 | stolbishche\n",
      "Processing Record 34 of Set 9 | hasaki\n",
      "Processing Record 35 of Set 9 | ponerihouen\n",
      "Processing Record 36 of Set 9 | banjar\n",
      "Processing Record 37 of Set 9 | ruatoria\n",
      "City not found. Skipping...\n",
      "Processing Record 38 of Set 9 | maria la baja\n",
      "Processing Record 39 of Set 9 | geraldton\n",
      "Processing Record 40 of Set 9 | matara\n",
      "Processing Record 41 of Set 9 | pangkalanbuun\n",
      "Processing Record 42 of Set 9 | kroya\n",
      "Processing Record 43 of Set 9 | manakara\n",
      "Processing Record 44 of Set 9 | amahai\n",
      "Processing Record 45 of Set 9 | mandiana\n",
      "Processing Record 46 of Set 9 | prieska\n",
      "Processing Record 47 of Set 9 | dawei\n",
      "Processing Record 48 of Set 9 | vanderhoof\n",
      "Processing Record 49 of Set 9 | souillac\n",
      "Processing Record 50 of Set 9 | zabol\n",
      "Processing Record 1 of Set 10 | inzer\n",
      "Processing Record 2 of Set 10 | nyurba\n",
      "Processing Record 3 of Set 10 | north bend\n",
      "Processing Record 4 of Set 10 | nuuk\n",
      "Processing Record 5 of Set 10 | visnes\n",
      "Processing Record 6 of Set 10 | yumen\n",
      "Processing Record 7 of Set 10 | san patricio\n",
      "Processing Record 8 of Set 10 | cabano\n",
      "Processing Record 9 of Set 10 | along\n",
      "Processing Record 10 of Set 10 | fort dodge\n",
      "Processing Record 11 of Set 10 | kondinskoye\n",
      "Processing Record 12 of Set 10 | aswan\n",
      "Processing Record 13 of Set 10 | caravelas\n",
      "Processing Record 14 of Set 10 | kombissiri\n",
      "Processing Record 15 of Set 10 | khani\n",
      "Processing Record 16 of Set 10 | necochea\n",
      "Processing Record 17 of Set 10 | kamskoye ustye\n",
      "Processing Record 18 of Set 10 | la asuncion\n",
      "Processing Record 19 of Set 10 | grand-lahou\n",
      "Processing Record 20 of Set 10 | goderich\n",
      "Processing Record 21 of Set 10 | georgetown\n",
      "Processing Record 22 of Set 10 | ayer itam\n",
      "City not found. Skipping...\n",
      "Processing Record 23 of Set 10 | jumla\n",
      "Processing Record 24 of Set 10 | iskateley\n",
      "Processing Record 25 of Set 10 | puerto escondido\n",
      "Processing Record 26 of Set 10 | moiyabana\n",
      "City not found. Skipping...\n",
      "Processing Record 27 of Set 10 | astakos\n",
      "Processing Record 28 of Set 10 | mosjoen\n",
      "Processing Record 29 of Set 10 | kavaratti\n",
      "Processing Record 30 of Set 10 | puerto morazan\n",
      "Processing Record 31 of Set 10 | saint-augustin\n",
      "Processing Record 32 of Set 10 | bandar-e lengeh\n",
      "Processing Record 33 of Set 10 | tura\n",
      "Processing Record 34 of Set 10 | jalingo\n",
      "Processing Record 35 of Set 10 | bardiyah\n",
      "Processing Record 36 of Set 10 | aljezur\n",
      "Processing Record 37 of Set 10 | dakar\n",
      "Processing Record 38 of Set 10 | san borja\n",
      "Processing Record 39 of Set 10 | burnie\n",
      "Processing Record 40 of Set 10 | vestmannaeyjar\n",
      "Processing Record 41 of Set 10 | tirau\n",
      "Processing Record 42 of Set 10 | talakan\n",
      "Processing Record 43 of Set 10 | nara\n",
      "Processing Record 44 of Set 10 | shahrud\n",
      "Processing Record 45 of Set 10 | aksu\n",
      "Processing Record 46 of Set 10 | tezu\n",
      "Processing Record 47 of Set 10 | ginda\n",
      "Processing Record 48 of Set 10 | boo\n",
      "Processing Record 49 of Set 10 | viedma\n",
      "Processing Record 50 of Set 10 | dawson creek\n",
      "Processing Record 1 of Set 11 | sibolga\n",
      "Processing Record 2 of Set 11 | gramado\n",
      "Processing Record 3 of Set 11 | bassar\n",
      "Processing Record 4 of Set 11 | curaca\n",
      "Processing Record 5 of Set 11 | huejuquilla el alto\n",
      "Processing Record 6 of Set 11 | rottingdean\n",
      "Processing Record 7 of Set 11 | tuy hoa\n",
      "Processing Record 8 of Set 11 | skibbereen\n",
      "Processing Record 9 of Set 11 | haines junction\n",
      "Processing Record 10 of Set 11 | nome\n",
      "Processing Record 11 of Set 11 | west wendover\n",
      "Processing Record 12 of Set 11 | koshurnikovo\n",
      "Processing Record 13 of Set 11 | clyde river\n",
      "Processing Record 14 of Set 11 | port hardy\n",
      "Processing Record 15 of Set 11 | tumpat\n",
      "Processing Record 16 of Set 11 | kizner\n",
      "Processing Record 17 of Set 11 | dudinka\n",
      "Processing Record 18 of Set 11 | geilo\n",
      "Processing Record 19 of Set 11 | tamandare\n",
      "Processing Record 20 of Set 11 | vuktyl\n",
      "Processing Record 21 of Set 11 | tabiauea\n",
      "City not found. Skipping...\n",
      "Processing Record 22 of Set 11 | yulara\n",
      "Processing Record 23 of Set 11 | mollendo\n",
      "Processing Record 24 of Set 11 | kibre mengist\n",
      "Processing Record 25 of Set 11 | baturaja\n",
      "Processing Record 26 of Set 11 | shebalino\n",
      "Processing Record 27 of Set 11 | padang\n",
      "Processing Record 28 of Set 11 | port-de-paix\n",
      "City not found. Skipping...\n",
      "Processing Record 29 of Set 11 | bilma\n",
      "Processing Record 30 of Set 11 | ballina\n",
      "Processing Record 31 of Set 11 | kizhinga\n",
      "Processing Record 32 of Set 11 | taburi\n",
      "City not found. Skipping...\n",
      "Processing Record 33 of Set 11 | saraland\n",
      "Processing Record 34 of Set 11 | sechura\n",
      "Processing Record 35 of Set 11 | bath\n",
      "Processing Record 36 of Set 11 | altamont\n",
      "Processing Record 37 of Set 11 | salinas\n",
      "Processing Record 38 of Set 11 | san quintin\n",
      "Processing Record 39 of Set 11 | boyolangu\n",
      "Processing Record 40 of Set 11 | areosa\n",
      "Processing Record 41 of Set 11 | jamtara\n",
      "Processing Record 42 of Set 11 | morrope\n",
      "Processing Record 43 of Set 11 | cocobeach\n",
      "Processing Record 44 of Set 11 | cacule\n",
      "Processing Record 45 of Set 11 | senneterre\n",
      "Processing Record 46 of Set 11 | kieta\n",
      "Processing Record 47 of Set 11 | westport\n",
      "Processing Record 48 of Set 11 | grand centre\n",
      "City not found. Skipping...\n",
      "Processing Record 49 of Set 11 | chany\n",
      "Processing Record 50 of Set 11 | tual\n",
      "Processing Record 1 of Set 12 | kavieng\n",
      "Processing Record 2 of Set 12 | lasa\n",
      "Processing Record 3 of Set 12 | gimli\n",
      "Processing Record 4 of Set 12 | majene\n",
      "Processing Record 5 of Set 12 | botwood\n",
      "Processing Record 6 of Set 12 | darnah\n",
      "Processing Record 7 of Set 12 | ilinsko-podomskoye\n",
      "City not found. Skipping...\n",
      "Processing Record 8 of Set 12 | kargasok\n",
      "Processing Record 9 of Set 12 | petlawad\n",
      "Processing Record 10 of Set 12 | port hedland\n",
      "Processing Record 11 of Set 12 | hearst\n",
      "Processing Record 12 of Set 12 | soverato\n",
      "Processing Record 13 of Set 12 | potosi\n",
      "Processing Record 14 of Set 12 | luderitz\n",
      "Processing Record 15 of Set 12 | kushiro\n",
      "Processing Record 16 of Set 12 | santa cruz de la palma\n",
      "Processing Record 17 of Set 12 | touros\n",
      "Processing Record 18 of Set 12 | wiang sa\n"
     ]
    },
    {
     "name": "stdout",
     "output_type": "stream",
     "text": [
      "Processing Record 19 of Set 12 | yanam\n",
      "Processing Record 20 of Set 12 | leshukonskoye\n",
      "Processing Record 21 of Set 12 | kargil\n",
      "Processing Record 22 of Set 12 | koutsouras\n",
      "Processing Record 23 of Set 12 | gobabis\n",
      "Processing Record 24 of Set 12 | rio cuarto\n",
      "Processing Record 25 of Set 12 | chicama\n",
      "Processing Record 26 of Set 12 | geelong\n",
      "Processing Record 27 of Set 12 | aflu\n",
      "City not found. Skipping...\n",
      "Processing Record 28 of Set 12 | dauriya\n",
      "Processing Record 29 of Set 12 | mwene-ditu\n",
      "Processing Record 30 of Set 12 | amambai\n",
      "Processing Record 31 of Set 12 | sangar\n",
      "Processing Record 32 of Set 12 | walvis bay\n",
      "Processing Record 33 of Set 12 | ossora\n",
      "Processing Record 34 of Set 12 | thilogne\n",
      "City not found. Skipping...\n",
      "Processing Record 35 of Set 12 | maceio\n",
      "Processing Record 36 of Set 12 | olinda\n",
      "Processing Record 37 of Set 12 | arlit\n",
      "Processing Record 38 of Set 12 | simav\n",
      "Processing Record 39 of Set 12 | orlik\n",
      "Processing Record 40 of Set 12 | ocumare del tuy\n",
      "Processing Record 41 of Set 12 | humaita\n",
      "Processing Record 42 of Set 12 | camopi\n",
      "Processing Record 43 of Set 12 | ondorhaan\n",
      "City not found. Skipping...\n",
      "Processing Record 44 of Set 12 | vao\n",
      "Processing Record 45 of Set 12 | conneaut\n",
      "Processing Record 46 of Set 12 | yaan\n",
      "Processing Record 47 of Set 12 | alice town\n",
      "Processing Record 48 of Set 12 | port macquarie\n",
      "Processing Record 49 of Set 12 | kodinsk\n",
      "Processing Record 50 of Set 12 | erenhot\n",
      "Processing Record 1 of Set 13 | ostrovnoy\n",
      "Processing Record 2 of Set 13 | kismayo\n",
      "Processing Record 3 of Set 13 | cabimas\n",
      "Processing Record 4 of Set 13 | christchurch\n",
      "Processing Record 5 of Set 13 | ola\n",
      "Processing Record 6 of Set 13 | odweyne\n",
      "Processing Record 7 of Set 13 | havelock\n",
      "Processing Record 8 of Set 13 | tanggu\n",
      "Processing Record 9 of Set 13 | kendari\n",
      "Processing Record 10 of Set 13 | lokosovo\n",
      "Processing Record 11 of Set 13 | natal\n",
      "Processing Record 12 of Set 13 | kalabo\n",
      "Processing Record 13 of Set 13 | petrovac\n",
      "Processing Record 14 of Set 13 | odate\n",
      "Processing Record 15 of Set 13 | ryotsu\n",
      "Processing Record 16 of Set 13 | tarnogskiy gorodok\n",
      "Processing Record 17 of Set 13 | pontes e lacerda\n",
      "Processing Record 18 of Set 13 | gull lake\n",
      "Processing Record 19 of Set 13 | hobyo\n",
      "Processing Record 20 of Set 13 | cap-aux-meules\n",
      "-----------------------------\n",
      "Data Retrieval Complete      \n",
      "-----------------------------\n"
     ]
    }
   ],
   "source": [
    "# Loop through all the cities in the list.\n",
    "for i, city in enumerate(cities):\n",
    "\n",
    "    # Group cities in sets of 50 for logging purposes.\n",
    "    if (i % 50 == 0 and i >= 50):\n",
    "        set_count += 1\n",
    "        record_count = 1\n",
    "        time.sleep(60)\n",
    "\n",
    "    # Create endpoint URL with each city.\n",
    "    city_url = url + \"&q=\" + city.replace(\" \",\"+\")\n",
    "\n",
    "    # Log the URL, record, and set numbers and the city.\n",
    "    print(f\"Processing Record {record_count} of Set {set_count} | {city}\")\n",
    "    # Add 1 to the record count.\n",
    "    record_count += 1\n",
    "    \n",
    "    # Run an API request for each of the cities.\n",
    "    try:\n",
    "        # Parse the JSON and retrieve data.\n",
    "        city_weather = requests.get(city_url).json()\n",
    "        # Parse out the needed data.\n",
    "        city_lat = city_weather[\"coord\"][\"lat\"]\n",
    "        city_lng = city_weather[\"coord\"][\"lon\"]\n",
    "        city_max_temp = city_weather[\"main\"][\"temp_max\"]\n",
    "        city_humidity = city_weather[\"main\"][\"humidity\"]\n",
    "        city_clouds = city_weather[\"clouds\"][\"all\"]\n",
    "        city_wind = city_weather[\"wind\"][\"speed\"]\n",
    "        city_country = city_weather[\"sys\"][\"country\"]\n",
    "        # Convert the date to ISO standard.\n",
    "        city_date = datetime.utcfromtimestamp(city_weather[\"dt\"]).strftime('%Y-%m-%d %H:%M:%S')\n",
    "        # Append the city information into city_data list.\n",
    "        city_data.append({\"City\": city.title(),\n",
    "                          \"Lat\": city_lat,\n",
    "                          \"Lng\": city_lng,\n",
    "                          \"Max Temp\": city_max_temp,\n",
    "                          \"Humidity\": city_humidity,\n",
    "                          \"Cloudiness\": city_clouds,\n",
    "                          \"Wind Speed\": city_wind,\n",
    "                          \"Country\": city_country,\n",
    "                          \"Date\": city_date})\n",
    "\n",
    "# If an error is experienced, skip the city.\n",
    "    except:\n",
    "        print(\"City not found. Skipping...\")\n",
    "        pass\n",
    "\n",
    "# Indicate that Data Loading is complete.\n",
    "print(\"-----------------------------\")\n",
    "print(\"Data Retrieval Complete      \")\n",
    "print(\"-----------------------------\")\n"
   ]
  },
  {
   "cell_type": "code",
   "execution_count": 104,
   "id": "087a3c20",
   "metadata": {},
   "outputs": [
    {
     "data": {
      "text/html": [
       "<div>\n",
       "<style scoped>\n",
       "    .dataframe tbody tr th:only-of-type {\n",
       "        vertical-align: middle;\n",
       "    }\n",
       "\n",
       "    .dataframe tbody tr th {\n",
       "        vertical-align: top;\n",
       "    }\n",
       "\n",
       "    .dataframe thead th {\n",
       "        text-align: right;\n",
       "    }\n",
       "</style>\n",
       "<table border=\"1\" class=\"dataframe\">\n",
       "  <thead>\n",
       "    <tr style=\"text-align: right;\">\n",
       "      <th></th>\n",
       "      <th>City</th>\n",
       "      <th>Lat</th>\n",
       "      <th>Lng</th>\n",
       "      <th>Max Temp</th>\n",
       "      <th>Humidity</th>\n",
       "      <th>Cloudiness</th>\n",
       "      <th>Wind Speed</th>\n",
       "      <th>Country</th>\n",
       "      <th>Date</th>\n",
       "    </tr>\n",
       "  </thead>\n",
       "  <tbody>\n",
       "    <tr>\n",
       "      <th>0</th>\n",
       "      <td>Shenjiamen</td>\n",
       "      <td>29.9576</td>\n",
       "      <td>122.2980</td>\n",
       "      <td>70.07</td>\n",
       "      <td>76</td>\n",
       "      <td>98</td>\n",
       "      <td>16.71</td>\n",
       "      <td>CN</td>\n",
       "      <td>2022-10-14 04:21:03</td>\n",
       "    </tr>\n",
       "    <tr>\n",
       "      <th>1</th>\n",
       "      <td>Sitka</td>\n",
       "      <td>57.0531</td>\n",
       "      <td>-135.3300</td>\n",
       "      <td>51.69</td>\n",
       "      <td>71</td>\n",
       "      <td>75</td>\n",
       "      <td>9.22</td>\n",
       "      <td>US</td>\n",
       "      <td>2022-10-14 04:21:04</td>\n",
       "    </tr>\n",
       "    <tr>\n",
       "      <th>2</th>\n",
       "      <td>Dhidhdhoo</td>\n",
       "      <td>6.8833</td>\n",
       "      <td>73.1000</td>\n",
       "      <td>81.12</td>\n",
       "      <td>76</td>\n",
       "      <td>99</td>\n",
       "      <td>14.25</td>\n",
       "      <td>MV</td>\n",
       "      <td>2022-10-14 04:16:27</td>\n",
       "    </tr>\n",
       "    <tr>\n",
       "      <th>3</th>\n",
       "      <td>Benjamin Hill</td>\n",
       "      <td>30.1667</td>\n",
       "      <td>-111.1000</td>\n",
       "      <td>77.79</td>\n",
       "      <td>41</td>\n",
       "      <td>98</td>\n",
       "      <td>3.31</td>\n",
       "      <td>MX</td>\n",
       "      <td>2022-10-14 04:21:04</td>\n",
       "    </tr>\n",
       "    <tr>\n",
       "      <th>4</th>\n",
       "      <td>Kasongo</td>\n",
       "      <td>-4.4500</td>\n",
       "      <td>26.6667</td>\n",
       "      <td>67.14</td>\n",
       "      <td>85</td>\n",
       "      <td>71</td>\n",
       "      <td>0.89</td>\n",
       "      <td>CD</td>\n",
       "      <td>2022-10-14 04:21:05</td>\n",
       "    </tr>\n",
       "    <tr>\n",
       "      <th>5</th>\n",
       "      <td>San Giljan</td>\n",
       "      <td>35.9184</td>\n",
       "      <td>14.4898</td>\n",
       "      <td>72.07</td>\n",
       "      <td>78</td>\n",
       "      <td>20</td>\n",
       "      <td>16.11</td>\n",
       "      <td>MT</td>\n",
       "      <td>2022-10-14 04:21:06</td>\n",
       "    </tr>\n",
       "    <tr>\n",
       "      <th>6</th>\n",
       "      <td>Tuktoyaktuk</td>\n",
       "      <td>69.4541</td>\n",
       "      <td>-133.0374</td>\n",
       "      <td>30.20</td>\n",
       "      <td>69</td>\n",
       "      <td>100</td>\n",
       "      <td>12.66</td>\n",
       "      <td>CA</td>\n",
       "      <td>2022-10-14 04:21:06</td>\n",
       "    </tr>\n",
       "    <tr>\n",
       "      <th>7</th>\n",
       "      <td>Elko</td>\n",
       "      <td>41.0002</td>\n",
       "      <td>-115.5012</td>\n",
       "      <td>61.65</td>\n",
       "      <td>19</td>\n",
       "      <td>0</td>\n",
       "      <td>5.01</td>\n",
       "      <td>US</td>\n",
       "      <td>2022-10-14 04:21:07</td>\n",
       "    </tr>\n",
       "    <tr>\n",
       "      <th>8</th>\n",
       "      <td>Bethel</td>\n",
       "      <td>41.3712</td>\n",
       "      <td>-73.4140</td>\n",
       "      <td>66.56</td>\n",
       "      <td>82</td>\n",
       "      <td>100</td>\n",
       "      <td>5.75</td>\n",
       "      <td>US</td>\n",
       "      <td>2022-10-14 04:21:08</td>\n",
       "    </tr>\n",
       "    <tr>\n",
       "      <th>9</th>\n",
       "      <td>Hermanus</td>\n",
       "      <td>-34.4187</td>\n",
       "      <td>19.2345</td>\n",
       "      <td>52.81</td>\n",
       "      <td>85</td>\n",
       "      <td>93</td>\n",
       "      <td>2.19</td>\n",
       "      <td>ZA</td>\n",
       "      <td>2022-10-14 04:21:08</td>\n",
       "    </tr>\n",
       "  </tbody>\n",
       "</table>\n",
       "</div>"
      ],
      "text/plain": [
       "            City      Lat       Lng  Max Temp  Humidity  Cloudiness  \\\n",
       "0     Shenjiamen  29.9576  122.2980     70.07        76          98   \n",
       "1          Sitka  57.0531 -135.3300     51.69        71          75   \n",
       "2      Dhidhdhoo   6.8833   73.1000     81.12        76          99   \n",
       "3  Benjamin Hill  30.1667 -111.1000     77.79        41          98   \n",
       "4        Kasongo  -4.4500   26.6667     67.14        85          71   \n",
       "5     San Giljan  35.9184   14.4898     72.07        78          20   \n",
       "6    Tuktoyaktuk  69.4541 -133.0374     30.20        69         100   \n",
       "7           Elko  41.0002 -115.5012     61.65        19           0   \n",
       "8         Bethel  41.3712  -73.4140     66.56        82         100   \n",
       "9       Hermanus -34.4187   19.2345     52.81        85          93   \n",
       "\n",
       "   Wind Speed Country                 Date  \n",
       "0       16.71      CN  2022-10-14 04:21:03  \n",
       "1        9.22      US  2022-10-14 04:21:04  \n",
       "2       14.25      MV  2022-10-14 04:16:27  \n",
       "3        3.31      MX  2022-10-14 04:21:04  \n",
       "4        0.89      CD  2022-10-14 04:21:05  \n",
       "5       16.11      MT  2022-10-14 04:21:06  \n",
       "6       12.66      CA  2022-10-14 04:21:06  \n",
       "7        5.01      US  2022-10-14 04:21:07  \n",
       "8        5.75      US  2022-10-14 04:21:08  \n",
       "9        2.19      ZA  2022-10-14 04:21:08  "
      ]
     },
     "execution_count": 104,
     "metadata": {},
     "output_type": "execute_result"
    }
   ],
   "source": [
    "# 6.2.7 create a dataframe of city weather data \n",
    "# Convert the array of dictionaries to a Pandas DataFrame.\n",
    "city_data_df = pd.DataFrame(city_data)\n",
    "city_data_df.head(10)"
   ]
  },
  {
   "cell_type": "code",
   "execution_count": 106,
   "id": "60c39138",
   "metadata": {},
   "outputs": [],
   "source": [
    "# Create the output file (CSV).\n",
    "output_data_file = \"weather_data/cities.csv\"\n",
    "# Export the City_Data into a CSV.\n",
    "city_data_df.to_csv(output_data_file, index_label=\"City_ID\")"
   ]
  },
  {
   "cell_type": "code",
   "execution_count": 107,
   "id": "c65defaa",
   "metadata": {},
   "outputs": [],
   "source": [
    "# Extract relevant fields from the DataFrame for plotting.\n",
    "lats = city_data_df[\"Lat\"]\n",
    "max_temps = city_data_df[\"Max Temp\"]\n",
    "humidity = city_data_df[\"Humidity\"]\n",
    "cloudiness = city_data_df[\"Cloudiness\"]\n",
    "wind_speed = city_data_df[\"Wind Speed\"]"
   ]
  },
  {
   "cell_type": "code",
   "execution_count": 108,
   "id": "50bc2583",
   "metadata": {},
   "outputs": [
    {
     "data": {
      "text/plain": [
       "1665723078.6608388"
      ]
     },
     "execution_count": 108,
     "metadata": {},
     "output_type": "execute_result"
    }
   ],
   "source": [
    "# Import the time module.\n",
    "import time\n",
    "# Get today's date in seconds.\n",
    "today = time.time()\n",
    "today"
   ]
  },
  {
   "cell_type": "code",
   "execution_count": 109,
   "id": "dfdff435",
   "metadata": {},
   "outputs": [
    {
     "data": {
      "image/png": "[encoded data removed]",
      "text/plain": [
       "<Figure size 640x480 with 1 Axes>"
      ]
     },
     "metadata": {},
     "output_type": "display_data"
    }
   ],
   "source": [
    "# Import time module\n",
    "import time\n",
    "\n",
    "# Build the scatter plot for latitude vs. max temperature.\n",
    "plt.scatter(lats,\n",
    "            max_temps,\n",
    "            edgecolor=\"black\", linewidths=1, marker=\"o\",\n",
    "            alpha=0.8, label=\"Cities\")\n",
    "\n",
    "# Incorporate the other graph properties.\n",
    "plt.title(f\"City Latitude vs. Max Temperature \"+ time.strftime(\"%x\"))\n",
    "plt.ylabel(\"Max Temperature (F)\")\n",
    "plt.xlabel(\"Latitude\")\n",
    "plt.grid(True)\n",
    "\n",
    "# Save the figure.\n",
    "plt.savefig(\"weather_data/Fig1.png\")\n",
    "\n",
    "# Show plot.\n",
    "plt.show()"
   ]
  },
  {
   "cell_type": "code",
   "execution_count": 110,
   "id": "01d436c8",
   "metadata": {},
   "outputs": [
    {
     "data": {
      "image/png": "[encoded data removed]",
      "text/plain": [
       "<Figure size 640x480 with 1 Axes>"
      ]
     },
     "metadata": {},
     "output_type": "display_data"
    }
   ],
   "source": [
    "# Build the scatter plots for latitude vs. humidity.\n",
    "plt.scatter(lats,\n",
    "            humidity,\n",
    "            edgecolor=\"black\", linewidths=1, marker=\"o\",\n",
    "            alpha=0.8, label=\"Cities\")\n",
    "\n",
    "# Incorporate the other graph properties.\n",
    "plt.title(f\"City Latitude vs. Humidity \"+ time.strftime(\"%x\"))\n",
    "plt.ylabel(\"Humidity (%)\")\n",
    "plt.xlabel(\"Latitude\")\n",
    "plt.grid(True)\n",
    "# Save the figure.\n",
    "plt.savefig(\"weather_data/Fig2.png\")\n",
    "# Show plot.\n",
    "plt.show()"
   ]
  },
  {
   "cell_type": "code",
   "execution_count": 111,
   "id": "d8bee932",
   "metadata": {},
   "outputs": [
    {
     "data": {
      "image/png": "[encoded data removed]",
      "text/plain": [
       "<Figure size 640x480 with 1 Axes>"
      ]
     },
     "metadata": {},
     "output_type": "display_data"
    }
   ],
   "source": [
    "# Build the scatter plots for latitude vs. cloudiness.\n",
    "plt.scatter(lats,\n",
    "            cloudiness,\n",
    "            edgecolor=\"black\", linewidths=1, marker=\"o\",\n",
    "            alpha=0.8, label=\"Cities\")\n",
    "\n",
    "# Incorporate the other graph properties.\n",
    "plt.title(f\"City Latitude vs. Cloudiness (%) \"+ time.strftime(\"%x\"))\n",
    "plt.ylabel(\"Cloudiness (%)\")\n",
    "plt.xlabel(\"Latitude\")\n",
    "plt.grid(True)\n",
    "# Save the figure.\n",
    "plt.savefig(\"weather_data/Fig3.png\")\n",
    "# Show plot.\n",
    "plt.show()"
   ]
  },
  {
   "cell_type": "code",
   "execution_count": null,
   "id": "a50f0ef4",
   "metadata": {},
   "outputs": [],
   "source": []
  },
  {
   "cell_type": "code",
   "execution_count": null,
   "id": "584e46db",
   "metadata": {},
   "outputs": [],
   "source": []
  },
  {
   "cell_type": "code",
   "execution_count": null,
   "id": "35f3e80d",
   "metadata": {},
   "outputs": [],
   "source": []
  }
 ],
 "metadata": {
  "kernelspec": {
   "display_name": "PythonData",
   "language": "python",
   "name": "pythondata"
  },
  "language_info": {
   "codemirror_mode": {
    "name": "ipython",
    "version": 3
   },
   "file_extension": ".py",
   "mimetype": "text/x-python",
   "name": "python",
   "nbconvert_exporter": "python",
   "pygments_lexer": "ipython3",
   "version": "3.9.12"
  }
 },
 "nbformat": 4,
 "nbformat_minor": 5
}
